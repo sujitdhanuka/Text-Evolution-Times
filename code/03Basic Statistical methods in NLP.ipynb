{
 "cells": [
  {
   "cell_type": "markdown",
   "id": "d2643c89-5b1d-4bf2-8c28-5066cc129160",
   "metadata": {},
   "source": [
    "# Basic Probability Distribution Example\n",
    "Here's a very basic example showing how to calculate and display the probability distribution of words in a text."
   ]
  },
  {
   "cell_type": "code",
   "execution_count": 3,
   "id": "0cc3cf1e-934c-4667-bdeb-5616523effa9",
   "metadata": {},
   "outputs": [
    {
     "name": "stdout",
     "output_type": "stream",
     "text": [
      "{'natural': 0.1, 'language': 0.2, 'processing': 0.1, 'enables': 0.1, 'computers': 0.1, 'to': 0.1, 'understand': 0.1, 'human': 0.1, '.': 0.1}\n"
     ]
    }
   ],
   "source": [
    "from collections import Counter\n",
    "import nltk\n",
    "\n",
    "nltk.download('punkt')\n",
    "\n",
    "text = \"Natural language processing enables computers to understand human language.\"\n",
    "words = nltk.word_tokenize(text.lower())\n",
    "\n",
    "# Count the frequency of each word\n",
    "freq = Counter(words)\n",
    "\n",
    "# Calculate probabilities\n",
    "total_words = sum(freq.values())\n",
    "prob_dist = {word: count/total_words for word, count in freq.items()}\n",
    "\n",
    "print(prob_dist)\n"
   ]
  },
  {
   "cell_type": "markdown",
   "id": "d5a2a472-130d-4d02-b85e-58ba768351cf",
   "metadata": {},
   "source": [
    "# Conditional Probability in Bigram Model\n",
    "This example demonstrates how to calculate conditional probabilities using a bigram model."
   ]
  },
  {
   "cell_type": "code",
   "execution_count": 4,
   "id": "01b2bc50-6a37-490c-b456-4e6164407563",
   "metadata": {},
   "outputs": [
    {
     "name": "stdout",
     "output_type": "stream",
     "text": [
      "{('the', 'quick'): 0.5, ('quick', 'brown'): 1.0, ('brown', 'fox'): 1.0, ('fox', 'jumps'): 1.0, ('jumps', 'over'): 1.0, ('over', 'the'): 1.0, ('the', 'lazy'): 0.5, ('lazy', 'dog'): 1.0}\n"
     ]
    }
   ],
   "source": [
    "from nltk import bigrams, ConditionalFreqDist\n",
    "\n",
    "sentence = 'the quick brown fox jumps over the lazy dog'\n",
    "words = sentence.split()\n",
    "bigram = list(bigrams(words))\n",
    "cfdist = ConditionalFreqDist(bigram)\n",
    "\n",
    "# Calculate conditional probabilities\n",
    "conditional_prob = {pair: cfdist[pair[0]].freq(pair[1]) for pair in bigram}\n",
    "\n",
    "print(conditional_prob)\n"
   ]
  },
  {
   "cell_type": "markdown",
   "id": "ae41ebd1-ade5-4e19-ab13-495d7ac094e2",
   "metadata": {},
   "source": [
    "# Naive Bayes Classifier for Text Classification\n",
    "Using Naive Bayes to classify text into categories."
   ]
  },
  {
   "cell_type": "code",
   "execution_count": 5,
   "id": "02806731-eb5f-4b68-ada5-5d6e6d773450",
   "metadata": {},
   "outputs": [
    {
     "name": "stdout",
     "output_type": "stream",
     "text": [
      "[[371  11   2   5]\n",
      " [ 11 377   5   1]\n",
      " [  5   4 379  10]\n",
      " [  5  11  49 186]]\n"
     ]
    }
   ],
   "source": [
    "from sklearn.datasets import fetch_20newsgroups\n",
    "from sklearn.feature_extraction.text import CountVectorizer\n",
    "from sklearn.naive_bayes import MultinomialNB\n",
    "from sklearn.pipeline import make_pipeline\n",
    "\n",
    "# Load data\n",
    "data = fetch_20newsgroups()\n",
    "categories = ['talk.religion.misc', 'soc.religion.christian', 'sci.space', 'comp.graphics']\n",
    "train = fetch_20newsgroups(subset='train', categories=categories)\n",
    "test = fetch_20newsgroups(subset='test', categories=categories)\n",
    "\n",
    "# Create pipeline\n",
    "model = make_pipeline(CountVectorizer(), MultinomialNB())\n",
    "\n",
    "# Train model\n",
    "model.fit(train.data, train.target)\n",
    "\n",
    "# Predict and evaluate\n",
    "labels = model.predict(test.data)\n",
    "\n",
    "# Check the performance\n",
    "from sklearn.metrics import confusion_matrix\n",
    "mat = confusion_matrix(test.target, labels)\n",
    "print(mat)\n"
   ]
  },
  {
   "cell_type": "markdown",
   "id": "a6cce534-15e1-4741-9f08-f569b0adc028",
   "metadata": {},
   "source": [
    "# Spam Detection Using Naive Bayes"
   ]
  },
  {
   "cell_type": "code",
   "execution_count": 8,
   "id": "1089608c-d8ae-49ae-a6fc-9dfcaa1248b2",
   "metadata": {},
   "outputs": [
    {
     "name": "stdout",
     "output_type": "stream",
     "text": [
      "Accuracy: 1.0\n",
      "Confusion Matrix:\n",
      " [[3 0]\n",
      " [0 1]]\n",
      "Classification Report:\n",
      "               precision    recall  f1-score   support\n",
      "\n",
      "         ham       1.00      1.00      1.00         3\n",
      "        spam       1.00      1.00      1.00         1\n",
      "\n",
      "    accuracy                           1.00         4\n",
      "   macro avg       1.00      1.00      1.00         4\n",
      "weighted avg       1.00      1.00      1.00         4\n",
      "\n"
     ]
    }
   ],
   "source": [
    "from sklearn.feature_extraction.text import CountVectorizer\n",
    "from sklearn.model_selection import train_test_split\n",
    "from sklearn.naive_bayes import MultinomialNB\n",
    "from sklearn.metrics import accuracy_score, confusion_matrix, classification_report\n",
    "\n",
    "# Simulated larger dataset\n",
    "data = [\n",
    "    (\"Free money!!!\", \"spam\"),\n",
    "    (\"Hi Bob, how about a game of golf tomorrow?\", \"ham\"),\n",
    "    (\"Urgent: Please send your bank details to claim your inheritance\", \"spam\"),\n",
    "    (\"Congratulations! You've won a $1000 gift card. Click here.\", \"spam\"),\n",
    "    (\"Can we meet for lunch today?\", \"ham\"),\n",
    "    (\"Hello, I love your blog post on Naive Bayes.\", \"ham\"),\n",
    "    (\"This is not spam, but we are selling cheap Viagra\", \"spam\"),\n",
    "    (\"Good morning, are you available for a meeting today?\", \"ham\"),\n",
    "    (\"Win big with our new lottery system\", \"spam\"),\n",
    "    (\"Please read our new research paper on machine learning\", \"ham\"),\n",
    "    (\"Lowest price drugs for you\", \"spam\"),\n",
    "    (\"Hey, can you send me the report?\", \"ham\"),\n",
    "    (\"You have won free tickets to the concert\", \"spam\"),\n",
    "    (\"Meeting reminder for tomorrow\", \"ham\"),\n",
    "    (\"Get your free trial of our product now!\", \"spam\"),\n",
    "    (\"How about dinner tonight?\", \"ham\"),\n",
    "    (\"You are a lucky winner of our contest\", \"spam\"),\n",
    "    (\"Could you please help me with the project?\", \"ham\"),\n",
    "    (\"Unbeatable prices for branded watches\", \"spam\"),\n",
    "    (\"Do you want to go out this weekend?\", \"ham\"),\n",
    "    (\"Big sale on all electronics!\", \"spam\"),\n",
    "]\n",
    "\n",
    "# Split data into messages and labels\n",
    "messages, labels = zip(*data)\n",
    "\n",
    "# Convert text data into numerical data\n",
    "vectorizer = CountVectorizer()\n",
    "message_features = vectorizer.fit_transform(messages)\n",
    "\n",
    "# Split data for training and testing (smaller test size ratio)\n",
    "msg_train, msg_test, label_train, label_test = train_test_split(message_features, labels, test_size=0.15, random_state=42)\n",
    "\n",
    "# Train a Naive Bayes classifier\n",
    "classifier = MultinomialNB()\n",
    "classifier.fit(msg_train, label_train)\n",
    "\n",
    "# Predict on test data\n",
    "predictions = classifier.predict(msg_test)\n",
    "\n",
    "# Evaluate the model\n",
    "print(\"Accuracy:\", accuracy_score(label_test, predictions))\n",
    "print(\"Confusion Matrix:\\n\", confusion_matrix(label_test, predictions))\n",
    "print(\"Classification Report:\\n\", classification_report(label_test, predictions))\n"
   ]
  },
  {
   "cell_type": "code",
   "execution_count": null,
   "id": "a39b00e9-9b4c-4011-bd17-78c2f00bba7a",
   "metadata": {},
   "outputs": [],
   "source": []
  }
 ],
 "metadata": {
  "kernelspec": {
   "display_name": "Python 3 (ipykernel)",
   "language": "python",
   "name": "python3"
  },
  "language_info": {
   "codemirror_mode": {
    "name": "ipython",
    "version": 3
   },
   "file_extension": ".py",
   "mimetype": "text/x-python",
   "name": "python",
   "nbconvert_exporter": "python",
   "pygments_lexer": "ipython3",
   "version": "3.9.15"
  }
 },
 "nbformat": 4,
 "nbformat_minor": 5
}
