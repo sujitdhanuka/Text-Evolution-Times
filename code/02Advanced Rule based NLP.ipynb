{
 "cells": [
  {
   "cell_type": "markdown",
   "id": "1a29949e-fdb1-41bb-af69-cda5aa316d1e",
   "metadata": {},
   "source": [
    "# Advanced Rule based NLP\n",
    "\n",
    "## Example 1 - Sentiment Analysis"
   ]
  },
  {
   "cell_type": "code",
   "execution_count": 1,
   "id": "7e5523c0-0b35-4a52-8141-82c733833ead",
   "metadata": {},
   "outputs": [
    {
     "name": "stdout",
     "output_type": "stream",
     "text": [
      "Text: This product is great! I had an awesome experience.\n",
      "Sentiment: Positive\n",
      "\n",
      "Text: What a terrible event, it was such a disappointment!\n",
      "Sentiment: Negative\n",
      "\n",
      "Text: I think this movie was just fine, neither good nor bad.\n",
      "Sentiment: Neutral\n",
      "\n"
     ]
    }
   ],
   "source": [
    "import re\n",
    "\n",
    "# Sample rules for sentiment analysis\n",
    "positive_words = ['good', 'great', 'awesome', 'happy', 'delightful', 'excellent']\n",
    "negative_words = ['bad', 'terrible', 'awful', 'sad', 'disappointing', 'poor']\n",
    "\n",
    "def classify_sentiment(text):\n",
    "    \"\"\"\n",
    "    Classifies the sentiment of a given text using predefined positive and negative keywords.\n",
    "    \"\"\"\n",
    "    # Convert text to lowercase to ensure case insensitivity\n",
    "    text = text.lower()\n",
    "\n",
    "    # Count occurrences of each positive and negative word\n",
    "    positive_count = sum(len(re.findall(r'\\b' + word + r'\\b', text)) for word in positive_words)\n",
    "    negative_count = sum(len(re.findall(r'\\b' + word + r'\\b', text)) for word in negative_words)\n",
    "\n",
    "    # Determine overall sentiment\n",
    "    if positive_count > negative_count:\n",
    "        return \"Positive\"\n",
    "    elif negative_count > positive_count:\n",
    "        return \"Negative\"\n",
    "    else:\n",
    "        return \"Neutral\"\n",
    "\n",
    "# Test cases\n",
    "texts = [\n",
    "    \"This product is great! I had an awesome experience.\",\n",
    "    \"What a terrible event, it was such a disappointment!\",\n",
    "    \"I think this movie was just fine, neither good nor bad.\"\n",
    "]\n",
    "\n",
    "for text in texts:\n",
    "    sentiment = classify_sentiment(text)\n",
    "    print(f\"Text: {text}\\nSentiment: {sentiment}\\n\")\n"
   ]
  },
  {
   "cell_type": "markdown",
   "id": "813d0e1c-1619-48c7-ab89-6334f65467d0",
   "metadata": {},
   "source": [
    "## Example 2 - Simple Keyword Search\n",
    "\n",
    "It uses simple string matching. It is very straightforward but less flexible as it looks for exact keyword matches within the text.\n"
   ]
  },
  {
   "cell_type": "code",
   "execution_count": 4,
   "id": "8091fec5-8b7a-43da-8af4-62259011f6d1",
   "metadata": {},
   "outputs": [
    {
     "name": "stdout",
     "output_type": "stream",
     "text": [
      "Documents containing the keyword:\n",
      "Machine learning can be applied in healthcare.\n",
      "Natural language processing is a subset of machine learning.\n"
     ]
    }
   ],
   "source": [
    "documents = [\n",
    "    \"Python is a great programming language for data science.\",\n",
    "    \"Machine learning can be applied in healthcare.\",\n",
    "    \"Natural language processing is a subset of machine learning.\",\n",
    "    \"Deep learning is used for image recognition.\"\n",
    "]\n",
    "\n",
    "def search_documents(documents, keyword):\n",
    "    \"\"\"\n",
    "    Search for a keyword in a list of documents and return all documents containing that keyword.\n",
    "    \"\"\"\n",
    "    keyword = keyword.lower()  # convert keyword to lowercase for case-insensitive search\n",
    "    return [doc for doc in documents if keyword in doc.lower()]\n",
    "\n",
    "# Example keyword search\n",
    "keyword = 'machine learning'\n",
    "found_documents = search_documents(documents, keyword)\n",
    "\n",
    "print(\"Documents containing the keyword:\")\n",
    "for doc in found_documents:\n",
    "    print(doc)\n"
   ]
  },
  {
   "cell_type": "markdown",
   "id": "e9950deb-e3d4-4484-bada-d2d040961f98",
   "metadata": {},
   "source": [
    "## Example 3 - Robust Keyword Search using Regular Expression\n",
    "\n",
    "This enhances Keyword Search by using regular expressions, which allows for more complex matching conditions such as word boundaries, variations of a word, or even simple synonyms and related terms"
   ]
  },
  {
   "cell_type": "code",
   "execution_count": 5,
   "id": "c37c23ee-61d8-4985-be61-038ed2ea1501",
   "metadata": {},
   "outputs": [
    {
     "name": "stdout",
     "output_type": "stream",
     "text": [
      "Documents containing the pattern:\n",
      "The Python ecosystem is evolving.\n",
      "There are many programming languages, but Python is very popular in data science.\n"
     ]
    }
   ],
   "source": [
    "import re\n",
    "\n",
    "documents = [\n",
    "    \"The Python ecosystem is evolving.\",\n",
    "    \"Machine learning and deep learning are parts of artificial intelligence.\",\n",
    "    \"The growth of data science applications is phenomenal.\",\n",
    "    \"There are many programming languages, but Python is very popular in data science.\"\n",
    "]\n",
    "\n",
    "def regex_search_documents(documents, search_pattern):\n",
    "    \"\"\"\n",
    "    Search for a regex pattern in a list of documents and return all documents containing the pattern.\n",
    "    \"\"\"\n",
    "    pattern = re.compile(search_pattern, re.IGNORECASE)  # Compile regex pattern with case-insensitive flag\n",
    "    return [doc for doc in documents if pattern.search(doc)]\n",
    "\n",
    "# Example regex search to find words like 'Python', 'pythonic', etc.\n",
    "search_pattern = r'\\bpython\\b'  # \\b is a word boundary\n",
    "found_documents = regex_search_documents(documents, search_pattern)\n",
    "\n",
    "print(\"Documents containing the pattern:\")\n",
    "for doc in found_documents:\n",
    "    print(doc)\n"
   ]
  },
  {
   "cell_type": "code",
   "execution_count": null,
   "id": "18ff953a-f6bd-426b-9371-3b0bd3b103a1",
   "metadata": {},
   "outputs": [],
   "source": []
  }
 ],
 "metadata": {
  "kernelspec": {
   "display_name": "Python 3 (ipykernel)",
   "language": "python",
   "name": "python3"
  },
  "language_info": {
   "codemirror_mode": {
    "name": "ipython",
    "version": 3
   },
   "file_extension": ".py",
   "mimetype": "text/x-python",
   "name": "python",
   "nbconvert_exporter": "python",
   "pygments_lexer": "ipython3",
   "version": "3.9.15"
  }
 },
 "nbformat": 4,
 "nbformat_minor": 5
}
