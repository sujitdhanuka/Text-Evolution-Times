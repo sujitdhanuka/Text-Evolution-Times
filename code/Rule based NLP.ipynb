{
 "cells": [
  {
   "cell_type": "markdown",
   "id": "579db4a0-224d-444f-bbc4-9626c7a0e4df",
   "metadata": {},
   "source": [
    "<h1>\n",
    "    Rule Based system in Natural Language Processing\n",
    "</h1>"
   ]
  },
  {
   "cell_type": "markdown",
   "id": "837ecff5-2619-4b75-923f-bb918aa4a999",
   "metadata": {},
   "source": [
    "## Example 1 - Grammar Checker"
   ]
  },
  {
   "cell_type": "code",
   "execution_count": 24,
   "id": "23a63829-b20f-4b41-83ef-0ae1faf980e8",
   "metadata": {},
   "outputs": [
    {
     "name": "stdout",
     "output_type": "stream",
     "text": [
      "Original: She is a engineer.\n",
      "Corrected: She is an engineer.\n",
      "\n",
      "Original: He bought an apple.\n",
      "Corrected: He bought an apple.\n",
      "\n",
      "Original: It is an university.\n",
      "Corrected: It is an university.\n",
      "\n",
      "Original: I saw a owl.\n",
      "Corrected: I saw an owl.\n",
      "\n",
      "Original: It is an smart city\n",
      "Corrected: It is a smart city\n",
      "\n"
     ]
    }
   ],
   "source": [
    "import re\n",
    "\n",
    "def correct_article_usage(text):\n",
    "    \"\"\"\n",
    "    Corrects the usage of 'a' and 'an' based on the initial letter of the following word.\n",
    "    \"\"\"\n",
    "\n",
    "    # Define the rules\n",
    "    rules = [\n",
    "        (r'\\ba ([aeiouAEIOU]\\w*)', r'an \\1'),\n",
    "        (r'\\ban ([^aeiouAEIOU\\s]\\w*)', r'a \\1')\n",
    "    ]\n",
    "\n",
    "    # Apply the rules\n",
    "    for pattern, replacement in rules:\n",
    "        text = re.sub(pattern, replacement, text)\n",
    "    \n",
    "    return text\n",
    "\n",
    "# Test cases\n",
    "texts = [\n",
    "    \"She is a engineer.\",\n",
    "    \"He bought an apple.\",\n",
    "    \"It is an university.\",\n",
    "    \"I saw a owl.\",\n",
    "    \"It is an smart city\"\n",
    "]\n",
    "\n",
    "for t in texts:\n",
    "    corrected_text = correct_article_usage(t)\n",
    "    print(f\"Original: {t}\")\n",
    "    print(f\"Corrected: {corrected_text}\\n\")\n"
   ]
  },
  {
   "cell_type": "markdown",
   "id": "e9cedce7-27e5-4b9b-8647-a52ba7a7331c",
   "metadata": {},
   "source": [
    "## Explanation"
   ]
  },
  {
   "cell_type": "markdown",
   "id": "91189c67-74d9-4524-b183-7553b2fd437b",
   "metadata": {},
   "source": [
    "\n",
    "\n",
    "Explanation\n",
    "Define the Rules:\n",
    "\n",
    "The first rule identifies occurrences of \"a\" followed by a word starting with a vowel (a, e, i, o, u) and replaces it with \"an\".\n",
    "The second rule identifies occurrences of \"an\" followed by a word starting with a consonant and replaces it with \"a\".\n",
    "Apply the Rules:\n",
    "\n",
    "Using the re.sub function, the text is processed according to each pattern and replacement rule.\n",
    "Test Cases:\n",
    "\n",
    "Four sample sentences are provided to demonstrate how the function corrects incorrect usage of \"a\" and \"an\".\n",
    "\n",
    "\n",
    "\n",
    "### Defining the Rules\n",
    "<pre>\n",
    "<code>\n",
    "    \n",
    "    rules = [\n",
    "    (r'\\ba ([aeiouAEIOU]\\w*)', r'an \\1'),\n",
    "    (r'\\ban ([^aeiouAEIOU\\s]\\w*)', r'a \\1')\n",
    "]\n",
    "\n",
    "</code>\n",
    "</pre>\n",
    "- We define a list of tuples called rules, where each tuple contains a pattern and a replacement string:\n",
    "    - **r'\\ba ([aeiouAEIOU]\\w*)':** This pattern matches \"a\" followed by a word starting with a vowel (case-insensitive).\n",
    "        - **\\b asserts a word boundary.**\n",
    "        - **([aeiouAEIOU]\\w*) ** captures a word that starts with a vowel. The parentheses create a capture group.\n",
    "    - **r'an \\1':** This replacement string uses \\1 to refer to the captured group (the word starting with a vowel), replacing \"a\" with \"an\".\n",
    "    - **r'\\ban ([^aeiouAEIOU\\s]\\w*)':** This pattern matches \"an\" followed by a word starting with a consonant.\n",
    "        - **[^aeiouAEIOU\\s]** matches any character that is not a vowel or whitespace.\n",
    "    - **r'a \\1':** This replacement string replaces \"an\" with \"a\" for words starting with a consonant.\n",
    "\n",
    "\n",
    "<code>\n",
    "    for pattern, replacement in rules:\n",
    "    text = re.sub(pattern, replacement, text)\n",
    "</code>\n",
    "\n",
    "<br>\n",
    "We iterate through each pattern-replacement pair in rules.\n",
    "re.sub(pattern, replacement, text) is used to substitute the matched pattern in the text with the replacement string.\n"
   ]
  },
  {
   "cell_type": "markdown",
   "id": "e5584ea2-f204-4e41-bcb3-f4278c2dc88f",
   "metadata": {},
   "source": [
    "# Example 2 - Text Generartion"
   ]
  },
  {
   "cell_type": "code",
   "execution_count": 26,
   "id": "9a01eebf-7dfa-4788-b722-da628fd5f15b",
   "metadata": {},
   "outputs": [
    {
     "name": "stdout",
     "output_type": "stream",
     "text": [
      "The bird eats a worm.\n",
      "The cat eats the ball.\n",
      "The cat sees a mouse.\n",
      "The cat sees the ball.\n",
      "The bird chases a worm.\n"
     ]
    }
   ],
   "source": [
    "import random\n",
    "\n",
    "# Lexicon\n",
    "subjects = [\"The cat\", \"A dog\", \"The bird\"]\n",
    "verbs = [\"eats\", \"chases\", \"sees\"]\n",
    "objects = [\"a mouse\", \"the ball\", \"a worm\"]\n",
    "\n",
    "# Function to generate sentences\n",
    "def generate_sentence():\n",
    "    subject = random.choice(subjects)\n",
    "    verb = random.choice(verbs)\n",
    "    object = random.choice(objects)\n",
    "    return f\"{subject} {verb} {object}.\"\n",
    "\n",
    "# Generate and print sentences\n",
    "for _ in range(5):\n",
    "    print(generate_sentence())"
   ]
  },
  {
   "cell_type": "markdown",
   "id": "622b3588-4b94-4c93-908f-cb06c35aa6f0",
   "metadata": {},
   "source": [
    "# Example 3 - Rule based Machine Translation"
   ]
  },
  {
   "cell_type": "code",
   "execution_count": 27,
   "id": "3253b1f9-ab8d-40c5-b9a3-267a8d4b31fc",
   "metadata": {},
   "outputs": [
    {
     "name": "stdout",
     "output_type": "stream",
     "text": [
      "Original: Hello world\n",
      "Translated: bonjour monde\n",
      "\n",
      "Original: My name is John\n",
      "Translated: mon nom est john\n",
      "\n",
      "Original: I am a student\n",
      "Translated: i suis a étudiant\n",
      "\n",
      "Original: This is a test\n",
      "Translated: this est a test\n",
      "\n"
     ]
    }
   ],
   "source": [
    "# Define the translation rules as dictionaries\n",
    "translation_dict = {\n",
    "    \"hello\": \"bonjour\",\n",
    "    \"world\": \"monde\",\n",
    "    \"my\": \"mon\",\n",
    "    \"name\": \"nom\",\n",
    "    \"is\": \"est\",\n",
    "    \"I\": \"je\",\n",
    "    \"am\": \"suis\",\n",
    "    \"student\": \"étudiant\"\n",
    "}\n",
    "\n",
    "# Define a function to translate a sentence\n",
    "def simple_translate(sentence, translation_dict):\n",
    "    words = sentence.lower().split()\n",
    "    translated_words = []\n",
    "    \n",
    "    for word in words:\n",
    "        # Translate word if it's in the dictionary, otherwise keep it the same\n",
    "        translated_word = translation_dict.get(word, word)\n",
    "        translated_words.append(translated_word)\n",
    "    \n",
    "    # Join the translated words into a sentence\n",
    "    translated_sentence = \" \".join(translated_words)\n",
    "    return translated_sentence\n",
    "\n",
    "# Test cases\n",
    "sentences = [\n",
    "    \"Hello world\",\n",
    "    \"My name is John\",\n",
    "    \"I am a student\",\n",
    "    \"This is a test\"\n",
    "]\n",
    "\n",
    "for sentence in sentences:\n",
    "    translated_sentence = simple_translate(sentence, translation_dict)\n",
    "    print(f\"Original: {sentence}\")\n",
    "    print(f\"Translated: {translated_sentence}\\n\")\n"
   ]
  },
  {
   "cell_type": "code",
   "execution_count": null,
   "id": "8c5c70bf-f7f4-4332-84e8-d1170e15ede9",
   "metadata": {},
   "outputs": [],
   "source": []
  }
 ],
 "metadata": {
  "kernelspec": {
   "display_name": "Python 3 (ipykernel)",
   "language": "python",
   "name": "python3"
  },
  "language_info": {
   "codemirror_mode": {
    "name": "ipython",
    "version": 3
   },
   "file_extension": ".py",
   "mimetype": "text/x-python",
   "name": "python",
   "nbconvert_exporter": "python",
   "pygments_lexer": "ipython3",
   "version": "3.9.15"
  }
 },
 "nbformat": 4,
 "nbformat_minor": 5
}
